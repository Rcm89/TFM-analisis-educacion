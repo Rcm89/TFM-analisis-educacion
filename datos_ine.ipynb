{
 "cells": [
  {
   "cell_type": "code",
   "execution_count": 16,
   "metadata": {},
   "outputs": [],
   "source": [
    "from selenium.webdriver.support.ui import WebDriverWait \n",
    "from selenium.webdriver.common.by import By \n",
    "from selenium.webdriver.support import expected_conditions as EC \n",
    "from selenium import webdriver \n",
    "from time import sleep\n"
   ]
  },
  {
   "cell_type": "markdown",
   "metadata": {},
   "source": [
    "### Extraemos de la web del INE los datos del censo de 2022"
   ]
  },
  {
   "cell_type": "code",
   "execution_count": 17,
   "metadata": {},
   "outputs": [
    {
     "name": "stdout",
     "output_type": "stream",
     "text": [
      "Archivo renombrado a: c:\\Users\\Administrador\\Desktop\\RCM\\TFM-analisis-educacion\\datos\\ine\\censo_2022.csv\n"
     ]
    }
   ],
   "source": [
    "import os\n",
    "from time import sleep\n",
    "from pathlib import Path\n",
    "from selenium import webdriver\n",
    "from selenium.webdriver.common.by import By\n",
    "from selenium.webdriver.support.ui import WebDriverWait\n",
    "from selenium.webdriver.support import expected_conditions as EC\n",
    "\n",
    "# Calculamos la ruta absoluta de la carpeta \"datos/ine\" a partir de la carpeta donde se ejecuta el script\n",
    "download_relative_path = os.path.join(\"datos\", \"ine\")\n",
    "download_dir = os.path.abspath(download_relative_path)\n",
    "\n",
    "chrome_options = webdriver.ChromeOptions()\n",
    "\n",
    "prefs = {\n",
    "    \"download.default_directory\": download_dir,  # Usamos la ruta absoluta\n",
    "    \"download.prompt_for_download\": False,\n",
    "    \"download.directory_upgrade\": True,\n",
    "    \"safebrowsing.enabled\": True,\n",
    "    \"plugins.always_open_pdf_externally\": True,\n",
    "}\n",
    "\n",
    "chrome_options.add_experimental_option(\"prefs\", prefs)\n",
    "\n",
    "url = \"https://www.ine.es/jaxiT3/Datos.htm?t=68519\"\n",
    "\n",
    "driver = webdriver.Chrome(options=chrome_options)\n",
    "driver.maximize_window()\n",
    "driver.get(url)\n",
    "\n",
    "# Aceptamos las cookies\n",
    "sleep(2)\n",
    "driver.find_element(\"css selector\", \"#aceptarCookie\").click()\n",
    "\n",
    "# Hacemos click en el botón de descarga\n",
    "sleep(2)\n",
    "driver.find_element(\"css selector\", \"#btnDescargaForm > i\").click()\n",
    "sleep(2)\n",
    "\n",
    "# Seleccionamos CSV\n",
    "iframe = WebDriverWait(driver, 10).until(\n",
    "    EC.element_to_be_clickable((By.XPATH, \"/html/body/div[6]/article/div/div/iframe\"))\n",
    ")\n",
    "driver.switch_to.frame(iframe)\n",
    "sleep(2)\n",
    "driver.find_element(\"xpath\", \"/html/body/form[1]/ul/li[3]/label\").click()\n",
    "\n",
    "sleep(2)\n",
    "driver.switch_to.default_content()\n",
    "\n",
    "def wait_for_download_and_rename(download_folder, new_filename, wait_time=60):\n",
    "    \"\"\"\n",
    "    Espera a que el archivo se descargue (es decir, que no tenga extensión .crdownload)\n",
    "    y renombra el primer archivo con patrón 'Datos*.csv' al nombre 'new_filename'.\n",
    "    \"\"\"\n",
    "    download_path = Path(download_folder)\n",
    "    \n",
    "    for _ in range(wait_time):\n",
    "        # Obtenemos todos los archivos que se llamen '68519...' con extensión .csv\n",
    "        # (ajusta el patron según el nombre real que devuelva el servidor)\n",
    "        files = list(download_path.glob(\"68519*.csv\"))\n",
    "        \n",
    "        # Verificamos que no exista ninguno con extensión .crdownload\n",
    "        # (indica que la descarga no ha finalizado)\n",
    "        crdownload_files = list(download_path.glob(\"*.crdownload\"))\n",
    "        \n",
    "        if files and not crdownload_files:\n",
    "            # Renombramos el primer archivo que encontremos\n",
    "            old_file_path = files[0]\n",
    "            \n",
    "            # Construimos la nueva ruta\n",
    "            new_file_path = download_path / new_filename\n",
    "            \n",
    "            # Si deseas conservar la extensión original o si el archivo es .xls, ajusta aquí\n",
    "            # Por ejemplo, para CSV:\n",
    "            if not new_file_path.suffix:\n",
    "                new_file_path = new_file_path.with_suffix(\".csv\")\n",
    "            \n",
    "            # Realizamos el rename\n",
    "            os.rename(old_file_path, new_file_path)\n",
    "            print(f\"Archivo renombrado a: {new_file_path}\")\n",
    "            return\n",
    "        \n",
    "        # Esperamos 1 segundo y seguimos buscando\n",
    "        sleep(1)\n",
    "    \n",
    "    raise TimeoutError(\n",
    "        \"El archivo no se descargó o no pudo ser encontrado \"\n",
    "        \"en el tiempo especificado.\"\n",
    "    )\n",
    "\n",
    "# ------------------------------------------------------------------------------\n",
    "\n",
    "# Esperamos la descarga y renombramos a censo_2022.csv\n",
    "wait_for_download_and_rename(download_dir, \"censo_2022.csv\")\n",
    "\n",
    "# Cerrar el navegador\n",
    "driver.quit()\n"
   ]
  }
 ],
 "metadata": {
  "kernelspec": {
   "display_name": "Python 3",
   "language": "python",
   "name": "python3"
  },
  "language_info": {
   "codemirror_mode": {
    "name": "ipython",
    "version": 3
   },
   "file_extension": ".py",
   "mimetype": "text/x-python",
   "name": "python",
   "nbconvert_exporter": "python",
   "pygments_lexer": "ipython3",
   "version": "3.12.6"
  }
 },
 "nbformat": 4,
 "nbformat_minor": 2
}
