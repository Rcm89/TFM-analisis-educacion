{
 "cells": [
  {
   "cell_type": "markdown",
   "metadata": {},
   "source": [
    "Trabajo: Estudio de factores que influyen en el rendimiento\n",
    "    - Eurostat\n",
    "        - ratio de alumnos por profesor\n",
    "        - ratio abandono escolar por sexo\n",
    "        - Gasto economico por alumno, por país\n",
    "        \n",
    "    - OECD\n",
    "        - Puntuación en informe PISA Matematicas, ciencias y comprensión lectora, a nivel nacional y autonomico\n",
    "        \n",
    " \n",
    "    - Eurydice:\n",
    "        - Información de horas de trabajo y salarios de profesores\n",
    "    - EPA:\n",
    "    - Censo:\n",
    "        - Población segun comunidad automa\n",
    "        - Población segun provincia\n",
    "        - Población segun municipio\n",
    "    - EDUCABASE: \n",
    "        - Datos educativos por provincias\n",
    "\n",
    "    -Expansion: https://datosmacro.expansion.com/estado/presupuestos/espana-comunidades-autonomas?sc=PR-G-F-32&utm_source=chatgpt.com\n",
    "\n",
    "        -Gasto educacion per capita por comundiad autonoma\n",
    "    - Ministerio de educacion y ciencia: \n",
    "        - Nota EBAU por comunidad autonoma\n",
    "    - INE: Escrapeo\n",
    "        -Numero de habitantes por municipio\n",
    "        -Municipio: Maximo nivel alcanzado por tamaño de muncipio*\n",
    "        -Municipio: Maximo nivel alcanzado por comunidad autonoma\n",
    "        -Gasto educativo por persona por comunidad autonoma\n",
    "        -Tasa repetidores por curso, comunidad autonoma, provincia \n",
    "        -Tasa de paro por provincia y nacional\n",
    "        -Distribución porcentual numero de alumnos por nivel educativo por comunidad autonoma\n",
    "\n",
    "    - SEPE: Paro por municipio, comunidad autonoma, nacional.\n",
    "\n",
    "\n",
    "\n",
    "    \n"
   ]
  },
  {
   "cell_type": "markdown",
   "metadata": {},
   "source": []
  },
  {
   "cell_type": "markdown",
   "metadata": {},
   "source": []
  }
 ],
 "metadata": {
  "kernelspec": {
   "display_name": "Python 3",
   "language": "python",
   "name": "python3"
  },
  "language_info": {
   "codemirror_mode": {
    "name": "ipython",
    "version": 3
   },
   "file_extension": ".py",
   "mimetype": "text/x-python",
   "name": "python",
   "nbconvert_exporter": "python",
   "pygments_lexer": "ipython3",
   "version": "3.12.6"
  }
 },
 "nbformat": 4,
 "nbformat_minor": 2
}
